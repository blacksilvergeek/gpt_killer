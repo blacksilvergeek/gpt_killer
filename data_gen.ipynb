{
 "cells": [
  {
   "attachments": {},
   "cell_type": "markdown",
   "metadata": {},
   "source": [
    "## test"
   ]
  },
  {
   "cell_type": "code",
   "execution_count": 1,
   "metadata": {},
   "outputs": [],
   "source": [
    "import json\n",
    "# read apikey from api_key.json\n",
    "with open('api_key.json') as f:\n",
    "    api_key = json.load(f)[\"api\"]\n",
    "    "
   ]
  },
  {
   "cell_type": "code",
   "execution_count": 30,
   "metadata": {},
   "outputs": [],
   "source": [
    "# https://github.com/openai/openai-python\n",
    "import openai\n",
    "# Set up the OpenAI API client\n",
    "openai.api_key = api_key\n",
    "\n",
    "def poem_generator(prompt,word_count, model= \"gpt-3.5-turbo\"):\n",
    "    #???? not sure, but if too many messages, maybe use acreate\n",
    "    \n",
    "    # Set up prompt\n",
    "    message = f\"please write a poem with topic {prompt}, use about {word_count} words\"\n",
    "    messages=[{\"role\": \"user\", \"content\": message}]\n",
    "\n",
    "    # Generate a response\n",
    "    completion = openai.ChatCompletion.create(\n",
    "        model=model,\n",
    "        messages=messages,\n",
    "        max_tokens=1024,\n",
    "        n=1,\n",
    "        stop=None,\n",
    "        temperature=0.5,\n",
    "    )\n",
    "\n",
    "    response = completion.choices[0].message.content\n",
    "    return response\n",
    "\n",
    "\n",
    "#???? not sure, but if too many messages, maybe use acreate"
   ]
  },
  {
   "cell_type": "code",
   "execution_count": 31,
   "metadata": {},
   "outputs": [
    {
     "name": "stdout",
     "output_type": "stream",
     "text": [
      "Rain, oh rain, how you fall from the sky\n",
      "A symphony of drops, a lullaby\n",
      "Your pitter-patter on the roof is a song\n",
      "That soothes my soul and carries me along\n",
      "\n",
      "You bring life to the earth, to the flowers and trees\n",
      "A gift from above, a blessing indeed\n",
      "Your gentle touch on my skin is a kiss\n",
      "That refreshes my spirit, a moment of bliss\n",
      "\n",
      "You cleanse the air, wash away the grime\n",
      "A natural cleaner, a purifier divine\n",
      "Your beauty is unmatched, your power immense\n",
      "Rain, oh rain, you are a true wonder of sense.\n",
      "86\n"
     ]
    }
   ],
   "source": [
    "topic = \"rain\"\n",
    "word_count = 100\n",
    "poem = poem_generator(topic,word_count)\n",
    "# count words\n",
    "print(poem)\n",
    "print(len(poem.split(\" \")))"
   ]
  },
  {
   "cell_type": "code",
   "execution_count": null,
   "metadata": {},
   "outputs": [],
   "source": [
    "class GPT_writter():\n",
    "    def __init__(self,topic,word_count):\n",
    "        self.topic = topic\n",
    "        self.word_count = word_count\n",
    "        self.poem = poem_generator(topic,word_count)\n",
    "        self.poem_len = len(self.poem.split(\" \"))\n",
    "        \n",
    "    def data_fetch(self):\n",
    "        pass\n",
    "    \n",
    "    def poem_generator(prompt,word_count, model_engine= \"gpt-3.5-turbo\"):\n",
    "        # Set up the model and prompt\n",
    "        message = f\"please write a poem with topic {prompt}, use about {word_count} words\"\n",
    "        \n",
    "        messages=[{\"role\": \"user\", \"content\": message}]\n",
    "\n",
    "        # Generate a response\n",
    "        completion = openai.ChatCompletion.create(\n",
    "            model=model_engine,\n",
    "            messages=messages,\n",
    "            max_tokens=1024,\n",
    "            n=1,\n",
    "            stop=None,\n",
    "            temperature=0.5,\n",
    "        )\n",
    "\n",
    "        response = completion.choices[0].message.content\n",
    "        return response"
   ]
  },
  {
   "cell_type": "code",
   "execution_count": null,
   "metadata": {},
   "outputs": [],
   "source": []
  }
 ],
 "metadata": {
  "kernelspec": {
   "display_name": "chatgpt",
   "language": "python",
   "name": "python3"
  },
  "language_info": {
   "codemirror_mode": {
    "name": "ipython",
    "version": 3
   },
   "file_extension": ".py",
   "mimetype": "text/x-python",
   "name": "python",
   "nbconvert_exporter": "python",
   "pygments_lexer": "ipython3",
   "version": "3.10.6"
  },
  "orig_nbformat": 4
 },
 "nbformat": 4,
 "nbformat_minor": 2
}

{
 "cells": [
  {
   "attachments": {},
   "cell_type": "markdown",
   "metadata": {},
   "source": [
    "## get data index"
   ]
  },
  {
   "cell_type": "code",
   "execution_count": 1,
   "metadata": {},
   "outputs": [],
   "source": [
    "import json\n",
    "# read apikey from api_key.json\n",
    "with open('api_key.json') as f:\n",
    "    api_key = json.load(f)[\"api\"]\n",
    "# https://github.com/openai/openai-python\n",
    "import openai\n",
    "# Set up the OpenAI API client\n",
    "openai.api_key = api_key"
   ]
  },
  {
   "cell_type": "code",
   "execution_count": 2,
   "metadata": {},
   "outputs": [],
   "source": [
    "import mat73\n",
    "path = \"thesis-master/authorData/authorshipData.mat\"\n",
    "import os"
   ]
  },
  {
   "cell_type": "code",
   "execution_count": 3,
   "metadata": {},
   "outputs": [
    {
     "data": {
      "text/plain": [
       "dict_keys(['all_authors', 'all_freqs', 'all_wans', 'function_words'])"
      ]
     },
     "execution_count": 3,
     "metadata": {},
     "output_type": "execute_result"
    }
   ],
   "source": [
    "# read mat file from path\n",
    "data_dict = mat73.loadmat(path)\n",
    "data_dict.keys()"
   ]
  },
  {
   "cell_type": "code",
   "execution_count": 4,
   "metadata": {},
   "outputs": [
    {
     "data": {
      "text/plain": [
       "[['abbott'],\n",
       " ['stevenson'],\n",
       " ['alcott'],\n",
       " ['alger'],\n",
       " ['allen'],\n",
       " ['austen'],\n",
       " ['bronte'],\n",
       " ['cooper'],\n",
       " ['dickens'],\n",
       " ['garland'],\n",
       " ['hawthorne'],\n",
       " ['james'],\n",
       " ['melville'],\n",
       " ['page'],\n",
       " ['thoreau'],\n",
       " ['twain'],\n",
       " ['doyle'],\n",
       " ['irving'],\n",
       " ['poe'],\n",
       " ['jewett'],\n",
       " ['wharton']]"
      ]
     },
     "execution_count": 4,
     "metadata": {},
     "output_type": "execute_result"
    }
   ],
   "source": [
    "authors = data_dict['all_authors']\n",
    "authors"
   ]
  },
  {
   "cell_type": "code",
   "execution_count": 5,
   "metadata": {},
   "outputs": [
    {
     "data": {
      "text/plain": [
       "['jacob abbott',\n",
       " 'robert louis stevenson',\n",
       " 'louisa may alcott',\n",
       " 'horatio alger',\n",
       " 'james allen',\n",
       " 'jane austen',\n",
       " 'emily bronte',\n",
       " 'james cooper',\n",
       " 'charles dickens',\n",
       " 'hamlin garland',\n",
       " 'nathaniel hawthorne',\n",
       " 'henry james',\n",
       " 'herman melville',\n",
       " 'page',\n",
       " 'henry thoreau',\n",
       " 'mark twain',\n",
       " 'arthur conan doyle',\n",
       " 'washington irving',\n",
       " 'edgar allan poe',\n",
       " 'sarah orne jewett',\n",
       " 'edith wharton']"
      ]
     },
     "execution_count": 5,
     "metadata": {},
     "output_type": "execute_result"
    }
   ],
   "source": [
    "\n",
    "\n",
    "# Possible authors:\n",
    "# from file \\graph-neural-networks-master\\alegnn\\utils\\dataTools.py\n",
    "all_authors_full = \"\"\"jacob 'abbott',         robert louis 'stevenson',   louisa may 'alcott',\n",
    "horatio 'alger',        james 'allen',              jane 'austen',\n",
    "emily 'bronte',         james 'cooper',             charles 'dickens', \n",
    "hamlin 'garland',       nathaniel 'hawthorne',      henry 'james',\n",
    "herman 'melville',      'page',                     henry 'thoreau',\n",
    "mark 'twain',           arthur conan 'doyle',       washington 'irving',\n",
    "edgar allan 'poe',      sarah orne 'jewett',        edith 'wharton'\"\"\"\n",
    "\n",
    "# remove \"\\n\"\n",
    "all_authors_full = all_authors_full.replace(\"\\n\",\"\")\n",
    "# convert to list\n",
    "all_authors = all_authors_full.split(\",\")\n",
    "# remove all start spaces\n",
    "all_authors = [author.strip() for author in all_authors]\n",
    "# remove all '\n",
    "authors_fullname = [author.replace(\"'\",\"\") for author in all_authors]\n",
    "authors_fullname\n"
   ]
  },
  {
   "cell_type": "code",
   "execution_count": 6,
   "metadata": {},
   "outputs": [],
   "source": [
    "def words_count(text):\n",
    "    return len(text.split())"
   ]
  },
  {
   "cell_type": "code",
   "execution_count": 8,
   "metadata": {},
   "outputs": [],
   "source": [
    "\n",
    "\n",
    "def excerpts_generator(author_name,word_count, model= \"gpt-3.5-turbo\"):\n",
    "    #???? not sure, but if too many messages, maybe use acreate\n",
    "    ### ??? find some bugs, chatgpt did not imitate them\n",
    "    # Set up prompt\n",
    "    message = f\"Create a passage in the style of the novelist {author_name}, use about {word_count} words\"\n",
    "    messages=[{\"role\": \"user\", \"content\": message}]\n",
    "\n",
    "    # Generate a response\n",
    "    completion = openai.ChatCompletion.create(\n",
    "        model=model,\n",
    "        messages=messages,\n",
    "        max_tokens=1024,\n",
    "        n=1,\n",
    "        stop=None,\n",
    "        temperature=0.5,\n",
    "    )\n",
    "\n",
    "    response = completion.choices[0].message.content\n",
    "    return response\n",
    "\n",
    "# response = excerpts_generator(authors_fullname[0], 500)\n",
    "# response"
   ]
  },
  {
   "cell_type": "code",
   "execution_count": 60,
   "metadata": {},
   "outputs": [],
   "source": [
    "responses = []\n",
    "for author in authors_fullname:\n",
    "    response = excerpts_generator(author, 500)\n",
    "    responses.append(response)\n",
    "\n",
    "# create a json file to store the responses\n",
    "import json\n",
    "with open('responses.json', 'w') as f:\n",
    "    # key is author name, value is the response\n",
    "    for i in range(len(authors_fullname)):\n",
    "        json.dump({authors_fullname[i]:responses[i]}, f)\n",
    "        f.write('\\n')\n",
    "    "
   ]
  },
  {
   "cell_type": "code",
   "execution_count": 73,
   "metadata": {},
   "outputs": [
    {
     "data": {
      "text/plain": [
       "[474,\n",
       " 605,\n",
       " 408,\n",
       " 466,\n",
       " 540,\n",
       " 617,\n",
       " 501,\n",
       " 510,\n",
       " 464,\n",
       " 522,\n",
       " 607,\n",
       " 505,\n",
       " 465,\n",
       " 612,\n",
       " 491,\n",
       " 572,\n",
       " 513,\n",
       " 788,\n",
       " 481,\n",
       " 429,\n",
       " 620]"
      ]
     },
     "execution_count": 73,
     "metadata": {},
     "output_type": "execute_result"
    }
   ],
   "source": [
    "# use map to apply the function to all authors\n",
    "_words_count = list(map(words_count, responses))\n",
    "_words_count"
   ]
  },
  {
   "cell_type": "code",
   "execution_count": 66,
   "metadata": {},
   "outputs": [],
   "source": [
    "# read the responses from json file\n",
    "with open('responses.json') as f:\n",
    "    responses = [json.loads(line) for line in f]\n",
    "# get every value from the dictionary\n",
    "responses = [list(response.values())[0] for response in responses]"
   ]
  },
  {
   "cell_type": "code",
   "execution_count": 67,
   "metadata": {},
   "outputs": [
    {
     "data": {
      "text/plain": [
       "['It was a bright and sunny day in the small town of Millfield. The birds chirped merrily in the trees, and the gentle breeze rustled the leaves. As I walked down the main street, I couldn\\'t help but marvel at the quaint charm of the place. The houses were all made of wood, with white picket fences and well-manicured lawns. The people of Millfield were friendly and welcoming, always ready with a smile and a kind word.\\n\\nAs I passed by the town square, I noticed a group of children playing tag. They were laughing and running around with abandon, their youthful energy infectious. It reminded me of my own childhood, of the simpler times when life was carefree and full of wonder.\\n\\nFurther down the street, I came across a small bookstore. The sign on the door read \"Books and More,\" and I couldn\\'t resist the temptation to step inside. The shelves were lined with books of all genres, from classic literature to modern-day thrillers. The scent of old paper and ink filled the air, and I felt a sense of peace wash over me.\\n\\nAs I perused the titles, I noticed a young woman sitting in a corner, lost in a book. Her hair was a fiery red, and her eyes were a bright green that sparkled in the sunlight streaming through the window. She wore a simple dress, and her bare feet peeked out from under the hem. There was something about her that drew me in, and I couldn\\'t help but approach her.\\n\\n\"Excuse me,\" I said, \"what are you reading?\"\\n\\nShe looked up, startled, and smiled. \"Oh, just a novel by Jane Austen. I\\'m a bit of a romantic at heart.\"\\n\\nI chuckled. \"I can relate. I\\'m a fan of Austen myself. Have you read \\'Pride and Prejudice\\'?\"\\n\\nHer eyes lit up. \"Of course! It\\'s one of my favorites. I never tire of Mr. Darcy\\'s brooding ways.\"\\n\\nWe fell into a comfortable conversation, discussing our favorite books and authors. I learned that her name was Emily, and that she had grown up in Millfield. She was a teacher at the local school, and had a passion for literature that she shared with her students.\\n\\nAs we talked, I couldn\\'t help but feel a sense of connection with her. There was something about her that made me feel alive, as if I had been wandering in a daze before meeting her. We exchanged phone numbers, promising to keep in touch.\\n\\nAs I left the bookstore, I felt a sense of contentment wash over me. I had found a kindred spirit in Emily, and I knew that our paths would cross again. Millfield may be a small town, but it was full of surprises and unexpected joys. I was grateful for the experience, and looked forward to what the future held.',\n",
       " 'It was a dark and stormy night. The wind howled through the trees like a pack of wolves on the hunt. The rain beat against the windows, creating a symphony of sound that echoed through the old house. I sat in front of the fireplace, my eyes fixed on the dancing flames. The warmth of the fire was the only comfort in this cold and dreary night.\\n\\nAs I sat there, lost in thought, I couldn\\'t help but feel a sense of unease. Something was not right. It was as if the house itself was alive, and it was trying to tell me something. I shook my head, trying to dispel the feeling, but it only grew stronger.\\n\\nSuddenly, there was a knock at the door. I jumped, startled by the sound. Who could be out in this weather? I hesitated, unsure if I should answer. But the knocking persisted, growing louder and more insistent. With a deep breath, I rose from my chair and made my way to the door.\\n\\nAs I opened the door, a gust of wind and rain rushed in, drenching me in an instant. Through the storm, I could make out the figure of a man, huddled under a cloak. He looked up at me with pleading eyes.\\n\\n\"Please, sir,\" he said, his voice barely audible over the howling wind. \"I am lost and in need of shelter. Can you help me?\"\\n\\nWithout a second thought, I invited him in. I led him to the fireplace, where he could dry off and warm up. As he sat there, his hands shaking from the cold, I couldn\\'t help but feel a sense of familiarity about him. It was as if I had seen him before, but I couldn\\'t place where.\\n\\nAs the storm raged on outside, we sat in silence, each lost in our own thoughts. The man stared into the fire, his eyes distant and haunted. I watched him, wondering what could have brought him out on a night like this.\\n\\nFinally, he spoke. \"I have been wandering for days,\" he said, his voice barely above a whisper. \"I have lost everything that was dear to me. My family, my home, my very identity. I am a man without a past, without a future. I am nothing.\"\\n\\nI listened, my heart heavy with sympathy. I knew what it was like to feel lost and alone, to have nothing to hold onto but the hope that things would get better.\\n\\n\"Perhaps,\" I said, my voice gentle. \"Perhaps you are not nothing. Perhaps you are simply waiting for the right path to reveal itself. Perhaps there is a purpose to your wandering, a reason for your pain.\"\\n\\nThe man looked up at me, his eyes bright with hope. \"Do you really believe that?\" he asked.\\n\\nI nodded. \"I do. Because I have been where you are. And I know that sometimes, the storm is necessary to clear the way for something better.\"\\n\\nAs the night wore on, the storm began to subside. The man rose from his seat, his face filled with gratitude. \"Thank you,\" he said, his voice filled with emotion. \"Thank you for giving me shelter, and for giving me hope.\"\\n\\nI smiled, knowing that I had done something good. As he walked out into the night, I watched him go, knowing that he would find his way, no matter how lost he felt. And in that moment, I knew that I too had found my purpose. To help those who were lost, to guide them through the storm, and to show them that there was always a way forward.',\n",
       " 'As the sun began to set over the rolling hills of New England, the March family gathered together in their cozy living room. Meg, Jo, Beth, and Amy sat around the fire, each with a book in hand, while their mother, Marmee, worked on her needlepoint.\\n\\nIt was a peaceful scene, one that Louisa May Alcott herself would have been proud to describe in her novels. The room was filled with warmth and love, and the family\\'s bond was unbreakable.\\n\\nAs the fire crackled and popped, Jo looked up from her book and spoke. \"Marmee, do you remember the time we put on a play in our attic?\"\\n\\nMarmee smiled at the memory. \"Of course, my dear. You all worked so hard on that play, and it was such a success.\"\\n\\nJo grinned. \"I still can\\'t believe we managed to convince Laurie to play the part of the old woman.\"\\n\\nThe family laughed together, remembering the antics of their dear friend Laurie. He was like a brother to the March sisters, and they loved him dearly.\\n\\nAs the night wore on, the family began to discuss their plans for the future. Meg was hoping to find a job as a governess, while Jo dreamed of becoming a famous writer. Beth was content to stay at home and care for the family, while Amy had her sights set on a career as an artist.\\n\\nMarmee listened to each of her daughters\\' aspirations with pride and encouragement. She knew that they were all capable of achieving their dreams, and she would do everything in her power to help them along the way.\\n\\nAs the hour grew late, the family retired to their respective bedrooms. Jo sat at her desk, pen in hand, ready to write the next chapter of her novel. Meg lay in bed, dreaming of the adventures that awaited her as a governess. Beth whispered a prayer, thanking God for the blessings in her life. And Amy drifted off to sleep, her mind filled with visions of the beautiful paintings she would create.\\n\\nIt was a typical night in the March household, but to Louisa May Alcott, it was a scene of pure magic. She would have been proud to write about such a loving family, filled with hope and ambition. And she would have been even prouder to know that her words had inspired generations of readers to follow their own dreams, just like the March sisters.',\n",
       " \"Tommy was a young boy of humble origins. He lived in a small village in the countryside, where his parents worked hard to make ends meet. Despite their limited resources, they instilled in Tommy a strong sense of determination and a belief that he could achieve anything he set his mind to.\\n\\nOne day, Tommy's parents decided to send him to the city to study and pursue his dreams. It was a difficult decision, but they knew it was the best thing for their son's future. Tommy was excited but also nervous about leaving his familiar surroundings and venturing into the unknown.\\n\\nAs he arrived in the city, Tommy was immediately struck by its bustling energy and endless opportunities. He enrolled in a prestigious school and threw himself into his studies, determined to excel in every subject. He spent countless hours in the library, devouring books and absorbing knowledge like a sponge.\\n\\nDespite his hard work, Tommy faced many challenges along the way. He struggled with some of the more advanced subjects and often felt overwhelmed by the sheer volume of work he had to do. But he refused to give up, knowing that his parents had sacrificed so much to give him this chance.\\n\\nTommy's determination paid off when he was awarded a scholarship to study abroad. He spent several years in Europe, immersing himself in different cultures and gaining a broader perspective on life. He returned to the city with a newfound sense of confidence and a desire to make a difference in the world.\\n\\nTommy started his own business, using the skills he had learned in school and his experiences abroad to create a unique product that quickly gained popularity. He worked tirelessly, often staying up late into the night to perfect his craft. His hard work paid off when he was featured in a national magazine and hailed as a rising star in the industry.\\n\\nDespite his success, Tommy remained humble and grateful for the opportunities he had been given. He never forgot his roots and often visited his parents in the countryside, bringing them gifts and sharing stories of his adventures.\\n\\nAs Tommy looked back on his journey, he realized that it was his unwavering determination and belief in himself that had brought him to where he was today. He knew that he had faced many obstacles and setbacks along the way, but he had never given up. He had always kept his eye on the prize and worked tirelessly to achieve his dreams.\\n\\nTommy's story is a testament to the power of hard work, determination, and a belief in oneself. No matter where you come from or what challenges you face, if you stay true to yourself and never give up, you can achieve anything you set your mind to.\",\n",
       " 'As the sun began its descent behind the rolling hills, the small village of Oakwood came into view. The dusty road leading to the village was lined with towering trees whose branches swayed gently in the breeze. The air was thick with the sweet scent of wildflowers and the distant sound of laughter and chatter could be heard.\\n\\nAs I approached the village, I couldn\\'t help but feel a sense of nostalgia wash over me. It had been years since I had visited Oakwood, but the memories of my childhood flooded back to me like a tidal wave. The old oak tree where I used to sit and read, the small stream where I used to catch fish with my grandfather, and the old church where I used to sing hymns with my family on Sundays.\\n\\nThe village was small, but it was bustling with life. The locals were going about their daily business, greeting each other with warm smiles and friendly nods. The sound of children playing and running around filled the air, their laughter echoing through the streets.\\n\\nAs I walked through the village, I couldn\\'t help but notice the changes that had taken place over the years. The old bakery where I used to buy my favorite pastries had been replaced by a modern coffee shop, and the small grocery store where my mother used to shop had been replaced by a supermarket.\\n\\nDespite the changes, the village still had a charm and warmth that was hard to find in the city. The people were genuine and kind-hearted, always willing to lend a helping hand to those in need. The sense of community was strong, and it was evident in the way everyone looked out for each other.\\n\\nAs I made my way to the old church, I couldn\\'t help but feel a sense of peace wash over me. The familiar hymns and the sound of the organ filled the air, transporting me back to a simpler time. The stained-glass windows cast a warm glow over the pews, and the smell of incense filled my nostrils.\\n\\nAs the service came to an end, the pastor approached me with a warm smile. \"It\\'s good to see you back in Oakwood,\" he said, his voice soft and gentle. \"We\\'ve missed you.\"\\n\\nI smiled back at him, feeling a sense of belonging that I had long forgotten. \"It\\'s good to be back,\" I replied.\\n\\nAs I walked out of the church, the sun had set behind the hills, casting a warm orange glow over the village. The sound of crickets filled the air, and the stars twinkled in the sky. I stood there for a moment, taking it all in, feeling grateful for the memories of my childhood and the sense of peace that Oakwood had brought me.\\n\\nAs I made my way back to the city, I couldn\\'t help but feel a sense of longing to return to the village. The hustle and bustle of the city seemed so foreign and chaotic compared to the simple and peaceful life of Oakwood. But I knew that I would always carry a piece of the village with me, a piece that would bring me comfort and peace whenever I needed it.',\n",
       " \"It was a truth universally acknowledged that a single man in possession of a good fortune must be in want of a wife. Such was the case with Mr. Edward Fairfax, a gentleman of considerable wealth and standing in society. He had long been the object of much speculation and interest among the ladies of the county, who were all eager to secure his hand in marriage and secure their own position in society.\\n\\nIt was at a ball held in the grand ballroom of Netherfield Park that Mr. Fairfax first caught the eye of Miss Elizabeth Bennet. She was a young lady of wit and intelligence, with a lively spirit and a keen sense of humor. She had been brought up in a family of modest means, but with a strong sense of propriety and a deep respect for the traditions of society.\\n\\nMr. Fairfax was immediately struck by Miss Bennet's beauty and charm, and he found himself drawn to her company. They danced together several times that evening, and he was impressed by her intelligence and wit. He was also intrigued by her independent spirit and her refusal to conform to the expectations of society.\\n\\nOver the coming weeks, Mr. Fairfax and Miss Bennet continued to see each other at various social events. They enjoyed each other's company immensely, and Mr. Fairfax found himself falling deeply in love with her. He was impressed by her intelligence, her wit, and her strong sense of morality. He knew that she would make an excellent wife, and he was determined to win her hand in marriage.\\n\\nMiss Bennet, for her part, was also deeply smitten with Mr. Fairfax. She found him to be a gentleman of great charm and intelligence, with a kind heart and a generous spirit. She was impressed by his wealth and standing in society, but she was also drawn to his sense of humor and his willingness to challenge the conventions of their society.\\n\\nDespite their growing affection for each other, however, there were many obstacles standing in the way of their happiness. Mr. Fairfax's mother, a woman of great pride and ambition, was determined to see her son marry a woman of equal standing in society. She was not impressed by Miss Bennet's modest background, and she was determined to find a more suitable match for her son.\\n\\nMiss Bennet's own family was also a source of concern. Her mother was a woman of great ambition, who was determined to see all of her daughters married to wealthy gentlemen of high standing. Her father, meanwhile, was a man of modest means, who was more concerned with his books than with the affairs of society.\\n\\nDespite these obstacles, however, Mr. Fairfax and Miss Bennet remained deeply in love. They continued to see each other in secret, stealing moments of happiness whenever they could. They knew that their love was forbidden, but they could not help themselves. They were two souls meant to be together, and they would do whatever it took to be with each other.\\n\\nIn the end, their love triumphed over all. Mr. Fairfax's mother was eventually won over by Miss Bennet's intelligence and charm, and she gave her blessing to their union. Miss Bennet's family, too, came to see the value of Mr. Fairfax's love for their daughter, and they gave their blessing as well.\\n\\nAnd so it was that Mr. Edward Fairfax and Miss Elizabeth Bennet were married in a grand ceremony at Netherfield Park. They were the happiest of couples, deeply in love and committed to each other for all eternity. Their love had triumphed over all, and they knew that they would be together forever, come what may.\",\n",
       " 'The moors stretched out before her, a vast expanse of heather and grass, wild and untamed. The wind whipped through her hair, tousling it about her face as she stood there, gazing out at the endless horizon. The sky above was a deep shade of blue, the clouds scudding by on the breeze. It was a wild and desolate place, but it was her home, and she loved it with a fierce and unyielding passion.\\n\\nAs she stood there, lost in thought, she heard the sound of hooves approaching. Turning, she saw a rider galloping towards her, his horse kicking up dust as it raced across the moors. She watched as he drew closer, his dark hair blowing in the wind, his eyes fixed on her.\\n\\n\"Miss Catherine,\" he called out as he approached, reining in his horse. \"What are you doing out here all alone?\"\\n\\nShe smiled at him, a small and wistful smile. \"I was just enjoying the view,\" she replied, her voice soft and low.\\n\\nHe dismounted from his horse and walked over to her, taking her hand in his. \"You should not be out here by yourself,\" he said, his voice filled with concern. \"It is not safe.\"\\n\\n\"I am not afraid,\" she said, looking up at him with a fierce determination in her eyes. \"This is my home, and I will not be afraid of it.\"\\n\\nHe nodded, understanding the passion that burned within her. He had known her for many years, had grown up with her on these moors, and he knew that she was not one to be easily intimidated.\\n\\n\"I know,\" he said, his hand tightening around hers. \"But you must be careful. There are dangers out here that you cannot even imagine.\"\\n\\nShe nodded, knowing that he was right. The moors were a dangerous place, filled with hidden pitfalls and treacherous terrain. But she was not one to be easily deterred.\\n\\n\"I will be careful,\" she said, her voice firm and resolute. \"But I will not be afraid.\"\\n\\nHe smiled at her, a warm and gentle smile that lit up his face. \"I know you won\\'t,\" he said, his hand still clasping hers. \"You are the bravest person I know.\"\\n\\nShe felt a surge of pride at his words, knowing that he spoke the truth. She was not afraid of anything, not even the dangers that lurked on the moors.\\n\\nTogether they stood there, gazing out at the wild and untamed landscape that stretched out before them. The wind whipped around them, tugging at their clothes and hair, but they were oblivious to it, lost in their own thoughts.\\n\\nFor a moment, they were lost in time, two souls united in their love of the moors, of the wild and untamed beauty that surrounded them. It was a moment of pure and unadulterated joy, a moment that they would both cherish forever.\\n\\nAnd as they stood there, hand in hand, gazing out at the endless horizon, they knew that they were home.',\n",
       " 'As the sun began to set over the rolling hills of the frontier, Nathaniel Bumppo found himself lost in thought. He had been wandering for days, seeking solace in the vast expanse of the wilderness. The sound of his footsteps echoed through the quiet forest as he trudged along, his thoughts consumed by the weight of his past.\\n\\nNathaniel had always been a man of few words, preferring the company of nature to that of his fellow man. He had grown up among the Mohicans, learning their ways and their language, and had fought alongside them in the wars that had ravaged the land. But now, as he walked alone through the woods, he felt a sense of isolation that he had never experienced before.\\n\\nThe memories of his youth flooded back to him as he walked. He remembered the days spent hunting and fishing with his father, the long nights spent around the campfire with his Mohican brothers. But those days were gone now, replaced by the brutal realities of war and the unforgiving nature of the frontier.\\n\\nAs the darkness began to descend, Nathaniel knew that he needed to find shelter for the night. He searched the woods for a suitable spot, his senses heightened by the knowledge that danger could be lurking around any corner. Finally, he came upon a small clearing, surrounded by towering trees and bathed in the soft glow of the moon.\\n\\nNathaniel set to work, gathering wood for a fire and building a makeshift shelter from fallen branches. As he worked, he felt a sense of peace wash over him, the familiar rhythm of nature soothing his troubled mind. He sat by the fire, watching the flames dance and listening to the sounds of the forest around him.\\n\\nAs the night wore on, Nathaniel found himself lost in thought once again. He thought of the friends he had lost in battle, the loved ones he had left behind. He thought of the endless cycle of violence and destruction that seemed to define the world he lived in. And yet, despite it all, he felt a sense of hope.\\n\\nFor Nathaniel knew that there was still beauty in the world, still goodness and kindness to be found. He thought of the Mohicans, of their unwavering loyalty and their deep respect for the land. He thought of the moments of peace he had experienced in the wilderness, the moments when he felt truly alive.\\n\\nAs the first light of dawn began to creep over the horizon, Nathaniel knew that it was time to move on. He packed up his meager belongings and set out once again into the vast expanse of the frontier, his heart filled with a sense of purpose and a renewed appreciation for the world around him.\\n\\nFor Nathaniel Bumppo knew that, no matter what trials lay ahead, he would continue to find solace in the beauty of the natural world. And he knew that, with each step he took, he was one step closer to finding his place in the world.',\n",
       " \"It was a dark and stormy night, the kind of night that could make even the bravest of men tremble with fear. The wind howled through the streets like a pack of wolves, and the rain beat down upon the cobblestones with a ferocity that seemed almost unnatural.\\n\\nIn the midst of this tempest, a lone figure could be seen making his way through the streets. He was a man of middle age, dressed in a long coat and a top hat, his face obscured by the shadows cast by the flickering street lamps.\\n\\nAs he walked, he seemed to be searching for something, his eyes darting back and forth as if trying to catch a glimpse of some elusive prey. And then, suddenly, he stopped, his attention drawn to a small alleyway that lay just ahead.\\n\\nSlowly, he made his way towards the alley, his footsteps echoing loudly in the stillness of the night. And then, just as he reached the entrance, he heard a sound, a faint rustling that seemed to come from deep within the shadows.\\n\\nFor a moment, he hesitated, unsure of what to do. But then, with a sudden burst of courage, he stepped boldly into the alley, determined to discover the source of the sound.\\n\\nAs he moved deeper into the darkness, the sound grew louder and more distinct, until finally he could make out the shape of a figure huddled against the wall.\\n\\nIt was a woman, young and beautiful, but with a look of terror etched upon her face. She was dressed in rags, her hair matted and unkempt, and her eyes were wide with fear.\\n\\nFor a moment, the man hesitated, unsure of what to do. But then, with a sudden burst of compassion, he stepped forward and reached out to touch her.\\n\\nAnd as he did so, a strange sensation washed over him, a feeling of warmth and comfort that seemed to emanate from the woman's touch.\\n\\nFor a moment, he stood there, lost in the moment, his mind filled with a thousand thoughts and emotions. And then, with a sudden burst of clarity, he realized what he had to do.\\n\\nHe would take the woman under his wing, he would care for her and protect her, and he would do whatever it took to ensure that she never had to suffer again.\\n\\nAnd so, with a renewed sense of purpose, he gathered the woman up in his arms and carried her out of the alley and into the night, his heart filled with a sense of hope and possibility.\\n\\nFor he knew that, no matter what the future held, he would always be there to guide her, to protect her, and to help her find her way in this dark and troubled world.\",\n",
       " 'The sun was setting over the vast prairie, casting long shadows across the fields of wheat and corn. The air was thick with the scent of freshly turned soil and the distant sound of a train whistle echoed through the stillness. It was a peaceful evening, but for one man, it was a time of great uncertainty.\\n\\nThomas had been farming this land for years, working tirelessly day after day to provide for his family. But the crops had been failing, and the debts were mounting. He had been forced to borrow money from the bank just to keep his head above water, and now he was in danger of losing everything he had worked so hard for.\\n\\nAs he gazed out at the horizon, Thomas felt a sense of despair wash over him. He had always been a proud man, but now he was faced with the reality that he might not be able to provide for his family much longer. He knew he had to do something, but what?\\n\\nJust then, he heard the sound of a wagon approaching. It was his neighbor, John, who had come to offer his help.\\n\\n\"Thomas, I heard about your troubles and I wanted to see if there was anything I could do to help,\" John said as he climbed down from the wagon.\\n\\nThomas was touched by the gesture, but he couldn\\'t help feeling ashamed that he had to rely on the kindness of others.\\n\\n\"Thank you, John, but I don\\'t know what to do. The crops have been failing, and I\\'m in debt up to my ears. I don\\'t know how I\\'m going to make it through another season.\"\\n\\nJohn put a hand on Thomas\\'s shoulder and looked him in the eye.\\n\\n\"Thomas, you\\'re not alone in this. We\\'re all in this together. We\\'ll find a way to get through this.\"\\n\\nAnd with those words, Thomas felt a glimmer of hope. Maybe he wasn\\'t alone after all. Maybe there was a way to overcome this hardship.\\n\\nOver the next few weeks, Thomas and John worked together to come up with a plan. They talked to other farmers in the area, and they all agreed to work together to share resources and support each other during the tough times.\\n\\nIt wasn\\'t easy, but slowly but surely, things began to improve. The crops started to grow again, and the debts began to shrink. Thomas felt a sense of pride and gratitude for the community that had come together to help him in his time of need.\\n\\nAs the years passed, Thomas continued to farm the land, but he never forgot the lessons he had learned during that difficult time. He knew that he was never truly alone, and that together, he and his neighbors could overcome any obstacle.\\n\\nAnd so, as the sun set over the prairie once again, Thomas looked out at the fields with a sense of peace and contentment. He knew that he had found his place in the world, and that no matter what challenges lay ahead, he would always have the support of his community to help him through.',\n",
       " 'The sun had just begun to set over the small New England town, casting a warm glow over the streets. As I walked through the winding roads, I couldn\\'t help but feel a sense of unease. It was as if the very air around me was thick with secrets and hidden truths.\\n\\nI had come to this town on a mission, to uncover the truth behind a mysterious disappearance that had plagued the community for years. The townspeople were tight-lipped and wary of outsiders, making my investigation all the more difficult.\\n\\nAs I made my way towards the town square, I noticed a group of women gathered around a small well. They were dressed in long, dark dresses and wore stern expressions on their faces. I approached them cautiously, unsure of their intentions.\\n\\n\"Good evening, ladies,\" I said, trying to sound as polite as possible.\\n\\nThey looked at me with suspicion, their eyes darting back and forth. \"What brings you to our town?\" one of them asked.\\n\\n\"I\\'m here to investigate the disappearance of a young woman,\" I replied, hoping to gain their trust.\\n\\nThe women exchanged knowing glances before one of them spoke up. \"You won\\'t find anything here. The truth is buried deep, and those who seek it often meet a terrible fate.\"\\n\\nI couldn\\'t help but feel a chill run down my spine at her words. It was as if she knew something I didn\\'t, something dark and sinister.\\n\\nAs I continued my investigation, I found myself drawn to the old cemetery on the outskirts of town. It was a desolate place, filled with weathered tombstones and overgrown weeds. It was here that I stumbled upon a grave that caught my eye.\\n\\nThe inscription read: \"Here lies Mary, beloved daughter and sister. May she rest in peace.\"\\n\\nSomething about the grave seemed off to me. It was as if the words had been hastily carved into the stone, as if someone had wanted to hide something.\\n\\nI decided to dig deeper, quite literally. With a small shovel, I began to unearth the dirt around the grave. It wasn\\'t long before I hit something hard, something that sounded like wood.\\n\\nWith trembling hands, I pulled out a small wooden box. Inside, I found a collection of letters and diary entries, all written by Mary herself. As I read through them, I began to piece together the truth behind her disappearance.\\n\\nIt was a tale of love and betrayal, of secrets and lies. Mary had been in love with a man from a neighboring town, a man her family disapproved of. They had forbidden her from seeing him, but Mary was too headstrong to listen.\\n\\nOne night, she had snuck out to meet him, only to be caught by her family. In a fit of rage, her father had killed her lover, burying him in the very cemetery where I stood.\\n\\nMary had been heartbroken, unable to bear the weight of her family\\'s disapproval and the loss of her beloved. She had taken her own life, leaving behind a trail of clues for anyone who dared to uncover the truth.\\n\\nAs I walked away from the cemetery, I couldn\\'t help but feel a sense of sadness and horror. The truth had been buried for so long, hidden away in the darkness. But now, it had been brought to light, for better or for worse.\\n\\nThe town would never be the same, and neither would I. The secrets that had once weighed heavy on my mind had been revealed, and I was left with a sense of unease that would stay with me for years to come.',\n",
       " \"The sun was setting over the rolling hills of the English countryside, casting a warm orange glow over the fields and hedgerows. As I walked along the winding country lane, I couldn't help but feel a sense of nostalgia for a time long gone. The world had changed so much since my youth, and yet this quiet corner of England remained untouched by the passing of time.\\n\\nAs I approached the old manor house, I could see the ivy-covered walls and the tall chimneys rising up into the evening sky. It was a grand and imposing sight, the kind of house that seemed to have a life of its own. I couldn't help but feel a sense of awe as I approached the front door, my heart beating a little faster with each step.\\n\\nInside, the house was just as impressive as the exterior. The grand entrance hall was filled with antique furniture and paintings, and the air was thick with the scent of polished wood and old books. I felt as though I had stepped back in time, to a world where elegance and refinement were the norm.\\n\\nAs I made my way through the house, I couldn't help but notice the little details that made it so special. The intricate carvings on the stair railings, the delicate china on the mantelpiece, the soft glow of the candlelight in the drawing room. It was a world of beauty and grace, a world that seemed almost too perfect to be real.\\n\\nAnd yet, as I sat down to dinner with the family who owned the house, I could see that there was more to their world than just beauty and grace. There was a sense of duty and responsibility, a sense of tradition and heritage that ran deep in their veins. They spoke of their ancestors with reverence, and of the future with a sense of purpose.\\n\\nAs the evening wore on, I found myself drawn into their world, fascinated by their stories and their way of life. It was a world that was both familiar and foreign to me, a world that I had glimpsed in the pages of novels and history books, but had never truly experienced.\\n\\nAnd yet, as I walked back to my own humble lodgings that night, I couldn't help but feel a sense of longing for that world of beauty and grace. It was a world that seemed so far away from the hustle and bustle of modern life, a world that offered a sense of peace and tranquility that was hard to find in the chaos of the city.\\n\\nAs I lay down to sleep that night, I couldn't help but think of the old manor house, and of the family who lived there. I wondered what their lives were like, what secrets and stories lay hidden behind those ivy-covered walls. And I knew that, in some small way, that world of beauty and grace had touched my own life, and left an indelible mark on my soul.\",\n",
       " 'As I sit here on the deck of this whaling vessel, the salty sea air filling my lungs and the sound of the waves crashing against our hull, I am reminded of the great adventure that lies ahead. For months now, we have been sailing these treacherous waters in search of the mighty leviathan that calls these depths home.\\n\\nOur captain, a grizzled veteran of the sea, has led us through countless storms and perilous encounters with other vessels. He is a man of few words, but his presence commands respect and his knowledge of these waters is unparalleled.\\n\\nAs we sail further out to sea, the days seem to blend together, the sun rising and setting in a never-ending cycle. We have seen no sign of our prey, but we remain vigilant, always on the lookout for any sign of a spout or a flick of a tail.\\n\\nThe men aboard this ship are a rough and tumble lot, each with their own story to tell. Some have been at sea for years, others are new to this life, but all share a common bond – a love for the sea and the thrill of the hunt.\\n\\nBut it is not just the hunt that brings us out here, it is the promise of adventure and the chance to see things that few have ever seen. The ocean is a vast and mysterious place, filled with creatures that defy imagination.\\n\\nAs we sail further into these unknown waters, I am struck by the sheer vastness of the ocean. It is a world unto itself, with its own rules and its own secrets. And yet, here we are, a small band of men, daring to challenge its might.\\n\\nBut we are not alone out here. There are other ships, other crews, all searching for the same thing. And while we may be rivals on the open sea, there is a mutual respect that exists between us. We are all bound by the same calling, the same desire to conquer the unknown.\\n\\nAnd so, we sail on, our eyes fixed on the horizon, our hearts filled with the thrill of the hunt. For we are not just chasing a whale, we are chasing a dream, a dream of adventure and discovery that has driven men to the sea for centuries.\\n\\nAs the sun begins to set on another day, I am filled with a sense of awe and wonder at the beauty of this world. It is a harsh and unforgiving place, but it is also a place of incredible beauty and mystery.\\n\\nAnd so, we sail on, into the unknown, driven by the call of the sea and the promise of adventure. For we are sailors, and this is our life, our passion, our home.',\n",
       " \"As the sun began to set over the sprawling cityscape, the bustling streets of downtown came alive with a vibrant energy. People rushed to and fro, their footsteps echoing off the towering buildings that loomed above them. The air was thick with the sounds of honking cars, blaring sirens, and the chatter of countless voices. It was a cacophony of noise that threatened to overwhelm the senses, yet somehow, amidst it all, there was a sense of excitement and possibility.\\n\\nFor Emily, the city was a place of endless opportunity. She had come here with nothing but a dream and a determination to succeed, and now, after years of hard work and sacrifice, she had finally made it. She had a successful career, a beautiful apartment, and a circle of friends who loved and supported her. Yet, despite all of this, there was a sense of restlessness that lingered within her. A feeling that there was something missing, something that she had yet to discover.\\n\\nIt was on a warm summer evening, much like this one, that Emily found herself wandering the streets aimlessly. She had finished work early and had no plans for the evening, so she decided to take a walk and clear her mind. As she strolled through the busy streets, she couldn't help but feel a sense of longing. A yearning for something that she couldn't quite put her finger on.\\n\\nAs she turned a corner, she saw a small bookstore tucked away in a quiet corner of the street. It was a quaint little place, with shelves lined with books of all shapes and sizes. Emily had always loved reading, and the sight of the bookstore filled her with a sense of nostalgia. She pushed open the door and stepped inside.\\n\\nThe air inside the bookstore was cool and musty, the scent of old books filling her nostrils. She wandered through the aisles, running her fingers over the spines of the books as she went. It was then that she saw it. A small, leather-bound journal, tucked away in a corner of the store. It was old and weathered, the pages yellowed with age. But there was something about it that drew her in.\\n\\nWithout a second thought, Emily picked up the journal and flipped through the pages. It was filled with writing, the words scrawled in a messy, almost illegible handwriting. As she read through the pages, she felt a sense of familiarity. It was as if the words had been written specifically for her. She knew then that she had to have it.\\n\\nAs she made her way to the counter to pay for the journal, she couldn't help but feel a sense of excitement. It was as if she had stumbled upon a secret, something that had been waiting for her all along. She left the bookstore with the journal tucked under her arm, eager to explore its contents.\\n\\nThat night, as she sat in her apartment, Emily opened the journal and began to read. The words on the page were raw and honest, a reflection of the writer's innermost thoughts and feelings. As she read through the pages, she felt a sense of connection to the writer. It was as if they were kindred spirits, linked by a common thread.\\n\\nAs the night wore on, Emily continued to read, her mind consumed by the words on the page. She felt as if she was on the cusp of something, something that had been waiting for her all along. And as she closed the journal and drifted off to sleep, she knew that she had found the missing piece she had been searching for.\",\n",
       " 'As I sit here by the banks of Walden Pond, I am reminded of the beauty and simplicity of nature. The gentle ripples of the water, the rustling of the leaves, and the chirping of the birds all serve as a reminder of the interconnectedness of all living things. In this tranquil setting, I find solace and peace, and I am reminded of the importance of living a life that is in harmony with nature.\\n\\nFor too long, we have been blinded by the allure of modernity and progress. We have lost touch with the natural world, and in doing so, we have lost touch with ourselves. We have become disconnected from the rhythms of nature, and in doing so, we have lost touch with the very essence of our being.\\n\\nBut here, in this place of quiet contemplation, I am reminded of the importance of simplicity. The simplicity of nature, the simplicity of living, and the simplicity of being. It is in this simplicity that we find true happiness and contentment. For it is not in the accumulation of wealth or possessions that we find happiness, but in the simple pleasures of life: the warmth of the sun on our skin, the coolness of the water on our feet, and the beauty of a sunset.\\n\\nIn this simplicity, we find freedom. Freedom from the constraints of society, freedom from the pressures of modern life, and freedom from the constant need for more. For it is in simplicity that we find true abundance. Abundance of time, abundance of space, and abundance of peace.\\n\\nAnd yet, despite the simplicity of nature, we continue to complicate our lives. We fill our days with endless tasks and obligations, and we rush from one thing to the next, never taking the time to truly appreciate the beauty around us. We have become so consumed with the pursuit of success and achievement that we have forgotten what it means to truly live.\\n\\nBut here, in this place of quiet reflection, I am reminded of the importance of slowing down. Of taking the time to appreciate the beauty around us, and of living in the present moment. For it is in the present moment that we find true joy and contentment. It is in the present moment that we are truly alive.\\n\\nAs I sit here by the banks of Walden Pond, I am reminded of the importance of living a life that is in harmony with nature. A life that is simple, free, and abundant. A life that is filled with the beauty and wonder of the natural world. And I am reminded of the words of one of my favorite poets, Ralph Waldo Emerson, who once wrote: \"Live in the sunshine, swim the sea, drink the wild air.\" For it is in these simple pleasures that we find true happiness and contentment, and it is in these simple pleasures that we find our true selves.',\n",
       " 'It was a hot summer day in the small town of Hannibal, Missouri. The sun was beating down on the dusty streets, and the only relief from the heat was the occasional breeze that blew in from the Mississippi River. I was sitting on the porch of my friend Tom Sawyer\\'s house, enjoying a glass of lemonade and watching the world go by.\\n\\nTom was a scamp, always getting into mischief and causing trouble. But he had a heart of gold, and I couldn\\'t help but admire him for his spirit. He was always up for an adventure, and I knew that if I ever needed a companion on a journey, he would be the first person I would turn to.\\n\\nAs we sat on the porch, we watched as a group of boys rode by on their bicycles. They were laughing and shouting, and I couldn\\'t help but feel a pang of jealousy. I had never learned how to ride a bike, and I felt left out of the fun.\\n\\nTom could sense my frustration, and he grinned mischievously. \"I have an idea,\" he said. \"Let\\'s go down to the river and build a raft. We can ride it all the way to St. Louis!\"\\n\\nI was skeptical, but Tom was persuasive. He had a way of making even the most outlandish ideas seem like a good idea. So we set off down to the river, gathering scraps of wood and rope along the way.\\n\\nIt took us a few hours to build the raft, but by the time we were finished, we had something that resembled a floating platform. We pushed it out into the water and climbed aboard, feeling like pirates on the high seas.\\n\\nThe river was calm, and we drifted lazily along, enjoying the cool breeze and the sound of the water lapping against the sides of the raft. We talked and laughed, telling stories and making plans for our future adventures.\\n\\nAs the sun began to set, we realized that we had gone further than we had intended. We were miles from Hannibal, and the city lights of St. Louis were just visible on the horizon.\\n\\nTom turned to me with a serious expression on his face. \"We can\\'t go back now,\" he said. \"We have to keep going.\"\\n\\nI knew he was right. We had come too far to turn back now. So we set our sights on St. Louis and pushed the raft forward, using our hands to paddle through the water.\\n\\nIt was a long and tiring journey, but we finally arrived in St. Louis just as the sun was rising. We were exhausted, but we felt a sense of pride and accomplishment that we had never felt before.\\n\\nAs we walked through the streets of the city, we knew that we had accomplished something great. We had taken a simple idea and turned it into an adventure that we would never forget.\\n\\nAnd that, my friends, is the story of how Tom Sawyer and I rode a raft down the Mississippi River all the way to St. Louis. It may sound like a tall tale, but I assure you, it\\'s the truth. And if you ever find yourself in Hannibal, Missouri, be sure to visit Tom\\'s house and ask him to tell you the story himself. He\\'ll give you a grin and a wink, and you\\'ll know that he\\'s telling the truth.',\n",
       " 'It was a cold, dreary evening in London as I made my way to Baker Street. The streets were quiet, save for the occasional clatter of a horse-drawn carriage passing by. I had received a letter from my dear friend and colleague, Sherlock Holmes, requesting my presence at his humble abode. As I arrived at the door, I was greeted by Mrs. Hudson, the landlady of the building, who led me up the stairs to the familiar sitting room where I had spent many an evening with the great detective.\\n\\nAs I entered the room, I was met with the sight of Holmes, sitting in his armchair, surrounded by various papers and books. He looked up at me with his piercing blue eyes and greeted me with his usual curt nod of the head.\\n\\n\"Good evening, Watson. I trust you received my letter?\"\\n\\nI nodded in response, taking a seat opposite him.\\n\\n\"I did indeed, Holmes. What is it that you require of me?\"\\n\\nHolmes leaned forward in his chair, his eyes glinting with excitement.\\n\\n\"I have been presented with a most intriguing case, Watson. It involves a wealthy merchant who has recently passed away under mysterious circumstances.\"\\n\\nI leaned in closer, eager to hear more.\\n\\n\"Tell me more about this merchant, Holmes.\"\\n\\n\"His name was Samuel Blackwell, a successful businessman who had made his fortune in the shipping industry. He was found dead in his study, with no signs of foul play or forced entry. The cause of death was listed as a heart attack, but something about the circumstances surrounding his death does not sit right with me.\"\\n\\nI raised an eyebrow in curiosity.\\n\\n\"What makes you say that, Holmes?\"\\n\\nHolmes stood up from his chair and began to pace the room, his mind clearly racing with thoughts.\\n\\n\"Blackwell was a man of routine, Watson. He would retire to his study at the same time every evening, and his servants would not disturb him until morning. However, on the night of his death, one of his servants reported hearing a commotion coming from the study. When he went to investigate, he found the door locked from the inside and no response from Blackwell. It wasn\\'t until the morning that they found him dead.\"\\n\\nI sat in silence, pondering over the information presented to me. Holmes continued to pace the room, his eyes darting back and forth as if searching for some clue that had eluded him.\\n\\n\"I need your assistance, Watson. I require a fresh pair of eyes and a different perspective on this case. Will you help me?\"\\n\\nI nodded, eager to assist my friend in any way possible.\\n\\n\"Of course, Holmes. What do you suggest we do first?\"\\n\\nHolmes stopped pacing and turned to face me, a glint of excitement in his eyes.\\n\\n\"We must visit the scene of the crime, Watson. I have a feeling that there is more to this case than meets the eye.\"\\n\\nAnd with that, we set off into the night, ready to delve into the mysterious circumstances surrounding the death of Samuel Blackwell.',\n",
       " 'It was a crisp autumn evening, the kind that made you want to wrap yourself in a warm cloak and sip on a steaming cup of tea. The leaves had turned shades of orange and gold, and the air was filled with the sweet scent of wood smoke. I found myself wandering through the winding streets of Sleepy Hollow, a small village nestled in the heart of the Hudson Valley. \\n\\nAs I walked, I couldn\\'t help but think of the tales I had heard about this place. The legend of the Headless Horseman, a ghostly figure said to roam the countryside on a black stallion, was well-known in these parts. Some claimed to have seen him in the dead of night, galloping through the woods with his head tucked under his arm. Others dismissed the story as mere superstition, a fanciful yarn spun by the locals to entertain themselves on long winter nights. \\n\\nBut as I looked around at the dark, looming trees and the mist that hung low over the fields, I couldn\\'t help but feel a sense of unease. Perhaps there was some truth to the legend after all. \\n\\nI decided to seek out the one person who might be able to shed some light on the matter: Ichabod Crane, the schoolmaster of Sleepy Hollow. He was known to be a man of learning and reason, and I hoped he could offer a rational explanation for the tales that had been circulating. \\n\\nI found him in his small cottage, poring over a thick volume by the light of a single candle. He looked up as I entered, his sharp features illuminated by the flickering flame. \\n\\n\"Good evening, sir,\" he said, rising to greet me. \"What brings you to Sleepy Hollow on this fine night?\" \\n\\nI explained my interest in the legend of the Headless Horseman, and asked if he had any knowledge of the matter. Ichabod\\'s eyes narrowed thoughtfully, and he stroked his pointed beard. \\n\\n\"The tale is a curious one, to be sure,\" he said. \"But I believe there is a rational explanation for it. You see, the people of this village are steeped in superstition and folklore. They are quick to believe in ghosts and goblins, and slow to accept the truth of the matter. I have no doubt that the Headless Horseman is merely a figment of their imagination.\" \\n\\nI listened to his words with interest, but couldn\\'t help feeling a sense of disappointment. I had hoped for a more exciting explanation, something that would satisfy my curiosity and thrill my imagination. But perhaps Ichabod was right. Perhaps the legend was nothing more than a fanciful tale, spun by the villagers to pass the time. \\n\\nAs I prepared to leave, Ichabod offered me a word of caution. \\n\\n\"If you do venture out into the woods tonight, sir, be sure to keep your wits about you. There are dangers in these parts that even the bravest man would do well to avoid.\" \\n\\nI thanked him for his advice and made my way back out into the chilly night air. As I walked, I couldn\\'t help but feel a sense of unease. What if Ichabod was wrong? What if the legend of the Headless Horseman was more than just a tale? \\n\\nI resolved to find out for myself. I made my way to the edge of the village, where the woods loomed dark and foreboding. With a deep breath, I stepped into the shadows and began my journey into the unknown. \\n\\nThe night was silent save for the crunch of my footsteps on the fallen leaves. The moon was hidden behind a thick blanket of clouds, casting everything into deep shadow. I walked for what felt like hours, my heart pounding with a mixture of fear and excitement. \\n\\nAnd then, suddenly, I heard it. The sound of hoofbeats, pounding the earth with a rhythmic cadence. My blood turned to ice as I realized what it must be. The Headless Horseman. \\n\\nI turned to run, but it was too late. The black stallion was upon me, its breath hot and fetid on my neck. I could feel the cold steel of its rider\\'s sword at my throat. \\n\\nAnd then, just as suddenly as it had appeared, it was gone. The hoofbeats faded away into the night, leaving me alone in the darkness. \\n\\nAs I stumbled back towards the safety of Sleepy Hollow, I couldn\\'t help but wonder. Was it all just a trick of the mind, a product of my overactive imagination? Or was there truly something supernatural at work in this place? \\n\\nOne thing was certain: I would never forget my journey into the heart of Sleepy Hollow, and the terror that awaited me there.',\n",
       " 'It was a dreary and desolate night, the kind that sends shivers down your spine and makes your heart race with every creak of the floorboards. The moon was hidden behind a thick blanket of clouds, casting an eerie glow over the old mansion. The air was thick with the scent of musty books and decaying wood, and the silence was deafening.\\n\\nI had been summoned to the mansion by a mysterious letter, signed only with the initial \"E\". The letter had promised me a great fortune if I could solve the mystery that lay within the walls of the mansion. I had always been a curious man, and the promise of wealth was too great to ignore.\\n\\nAs I made my way through the dark and winding corridors, I couldn\\'t help but feel a sense of foreboding. The walls seemed to close in around me, and the shadows danced in the corners of my eyes. It was as if the mansion itself was alive, and it was watching me.\\n\\nFinally, I came to a door that was slightly ajar. I pushed it open, and what I saw inside made my blood run cold. The room was filled with strange and macabre objects - jars filled with strange liquids, odd-looking instruments, and a large wooden chest that seemed to be calling out to me.\\n\\nI approached the chest cautiously, my heart pounding in my chest. As I opened it, a gust of cold air rushed out, sending chills down my spine. Inside the chest, I found a book - a book that seemed to be bound in human skin.\\n\\nI hesitated for a moment, wondering if I should open it. But the promise of wealth was too great, and I could not resist the temptation. As I opened the book, a foul smell filled my nostrils, and I felt a wave of nausea wash over me.\\n\\nThe pages were filled with strange and incomprehensible symbols, and as I read them, I felt a sense of dread wash over me. It was as if the book was alive, and it was trying to consume me.\\n\\nSuddenly, I heard a noise behind me. I turned around, and what I saw made me scream in terror. The room was filled with strange and grotesque creatures - creatures that seemed to be made of shadows and mist.\\n\\nI tried to run, but my legs would not move. The creatures closed in around me, and I felt their icy breath on my neck. I knew then that I was doomed, that I had fallen into the trap of the mysterious \"E\".\\n\\nAs I lay there, waiting for the end to come, I heard a voice - a voice that sounded like it was coming from the depths of hell. It was the voice of \"E\", and it was laughing at me.\\n\\nAnd then, everything went black.',\n",
       " 'As the sun began to rise over the small coastal town of Dunnet Landing, the salty sea air filled the lungs of its inhabitants. The sound of seagulls echoed through the narrow streets as the fishermen made their way down to the harbor, ready to set sail for the day\\'s catch.\\n\\nIn the midst of it all stood a small cottage, nestled between the towering cliffs and the shimmering sea. It was here that Mrs. Almira Todd, the town\\'s herbalist and healer, lived and worked.\\n\\nMrs. Todd was a woman of great knowledge and wisdom, having spent her entire life studying the secrets of nature and the healing powers of herbs. Her cottage was filled with jars and bottles of all shapes and sizes, each one containing a different remedy for every ailment imaginable.\\n\\nAs the morning sun cast its warm glow over the town, Mrs. Todd emerged from her cottage, a basket of freshly picked herbs in her hand. She made her way down to the harbor, where the fishermen were already hard at work, preparing their boats for the day ahead.\\n\\n\"Good morning, Mrs. Todd,\" one of the fishermen called out. \"What brings you down to the harbor so early?\"\\n\\n\"I\\'ve come to see if any of you are in need of my services,\" Mrs. Todd replied, a warm smile on her face. \"I have some fresh herbs that may be of use to you.\"\\n\\nThe fishermen welcomed her with open arms, eager to hear what she had to offer. Mrs. Todd went from boat to boat, dispensing her remedies and offering her advice.\\n\\nAs the day wore on, the sun beat down on the town, and the fishermen returned to shore, their boats laden with fish. Mrs. Todd made her way back to her cottage, her basket now empty.\\n\\nAs she sat on her front porch, enjoying the cool sea breeze, she reflected on the day\\'s events. She was grateful for the opportunity to help her fellow townspeople, to share her knowledge and expertise with those in need.\\n\\nFor Mrs. Todd, there was no greater joy than to see the healing powers of nature at work, to witness the transformation of a sick and suffering patient into a healthy and vibrant one.\\n\\nAs the sun began to set over Dunnet Landing, Mrs. Todd retired to her cottage, ready to rest and prepare for another day of healing and helping. For her, there was no greater calling than to serve her community, to use her knowledge and wisdom to make a difference in the lives of others.',\n",
       " \"As I sit here in my study, surrounded by the trappings of wealth and privilege, I cannot help but feel a sense of unease. The world outside my window is changing, and I fear that I may be left behind.\\n\\nI was born into a world of luxury, where money and status were everything. My parents were members of New York's elite, and I was raised to believe that I too was destined for greatness. I was sent to the best schools, taught the proper manners and etiquette, and groomed for a life of ease and comfort.\\n\\nBut as I grew older, I began to see the cracks in this facade. I saw the poverty and suffering that lay just beyond the borders of my privileged existence. I saw the injustices that were perpetuated by those in power, and I began to question the very foundations of the society in which I lived.\\n\\nIt was then that I discovered the writings of the great thinkers and reformers of my time. I read the works of Marx and Engels, of Nietzsche and Freud. I devoured the novels of Dickens and Tolstoy, and I began to see the world in a new light.\\n\\nI became a champion of the downtrodden and the oppressed. I spoke out against the injustices of the capitalist system, and I worked tirelessly to bring about change. I founded a school for the children of the poor, and I used my wealth and influence to support the causes of the working class.\\n\\nBut even as I fought for change, I could not escape the feeling that I was still trapped in the world of my birth. I was still a member of the elite, still a part of the system that I was fighting against. And so I began to question my own motives, to wonder if I was truly working for the good of others, or if I was simply trying to assuage my own guilt.\\n\\nIt was then that I met him. He was a man unlike any I had ever known, a man who had lived a life of poverty and hardship, and who had risen above it all through sheer force of will. He was a socialist, a believer in the power of the people to bring about change, and he spoke with a passion and conviction that I had never encountered before.\\n\\nWe fell in love, and for a time, it seemed as though we could overcome the barriers that separated us. But as our relationship deepened, I began to see the true extent of the gulf between us. He saw me as a symbol of everything that was wrong with society, a member of the ruling class who could never truly understand the struggles of the working class.\\n\\nAnd so we parted ways, each of us convinced that the other could never truly understand the world as we saw it. But even as I mourned the loss of our relationship, I knew that I could not go back to the life that I had led before. I had seen too much, experienced too much, to ever be able to return to the world of my birth.\\n\\nAnd so I continue to fight for change, to work for a world in which all people are equal, regardless of their wealth or status. It is a difficult and often thankless task, but it is one that I know is worth pursuing. For even if we never achieve our goals, even if we never see the world that we dream of, we will have at least tried to make a difference. And that, in the end, is all that any of us can hope for.\"]"
      ]
     },
     "execution_count": 67,
     "metadata": {},
     "output_type": "execute_result"
    }
   ],
   "source": [
    "responses"
   ]
  },
  {
   "cell_type": "code",
   "execution_count": 10,
   "metadata": {},
   "outputs": [],
   "source": [
    "# try for gpt 4\n",
    "# cannot use now\n",
    "\n",
    "\n",
    "# model = \"gpt-4\"\n",
    "\n",
    "# responses = []\n",
    "# for author in authors_fullname:\n",
    "#     response = excerpts_generator(author, 500,model= model)\n",
    "#     responses.append(response)\n",
    "\n",
    "# # create a json file to store the responses\n",
    "# import json\n",
    "# with open('responses_gpt4.json', 'w') as f:\n",
    "#     # key is author name, value is the response\n",
    "#     for i in range(len(authors_fullname)):\n",
    "#         json.dump({authors_fullname[i]:responses[i]}, f)\n",
    "#         f.write('\\n')"
   ]
  },
  {
   "attachments": {},
   "cell_type": "markdown",
   "metadata": {},
   "source": [
    "## test"
   ]
  },
  {
   "cell_type": "code",
   "execution_count": null,
   "metadata": {},
   "outputs": [],
   "source": [
    "# try for gpt 4\n",
    "# cannot use now\n",
    "\n",
    "\n",
    "# model = \"gpt-4\"\n",
    "\n",
    "# responses = []\n",
    "# for author in authors_fullname:\n",
    "#     response = excerpts_generator(author, 500,model= model)\n",
    "#     responses.append(response)\n",
    "\n",
    "# # create a json file to store the responses\n",
    "# import json\n",
    "# with open('responses_gpt4.json', 'w') as f:\n",
    "#     # key is author name, value is the response\n",
    "#     for i in range(len(authors_fullname)):\n",
    "#         json.dump({authors_fullname[i]:responses[i]}, f)\n",
    "#         f.write('\\n')"
   ]
  },
  {
   "cell_type": "code",
   "execution_count": null,
   "metadata": {},
   "outputs": [
    {
     "name": "stdout",
     "output_type": "stream",
     "text": [
      "[{'role': 'user', 'content': 'Please give me 10 titles of poems that allen has created, Please indicate with {} and separate with a comma'}]\n"
     ]
    },
    {
     "data": {
      "text/plain": [
       "'{Howl}, {America}, {A Supermarket in California}, {Sunflower Sutra}, {Kaddish}, {Song}, {To Aunt Rose}, {Mescaline}, {Wichita Vortex Sutra}, {The Ballad of the Skeletons}'"
      ]
     },
     "metadata": {},
     "output_type": "display_data"
    }
   ],
   "source": [
    "# ask chatgpt to generate topic for a given author\n",
    "def generate_topic(author, num_titles=10, model= \"gpt-3.5-turbo\"):\n",
    "    message = f\"Please give me {num_titles} titles of poems that {author[0]} has created, Please indicate with {{}} and separate with a comma\"\n",
    "    messages=[{\"role\": \"user\", \"content\": message}]\n",
    "    print(messages)\n",
    "    # Generate a response\n",
    "    completion = openai.ChatCompletion.create(\n",
    "        model=model,\n",
    "        messages=messages,\n",
    "        max_tokens=1024,\n",
    "        n=1,\n",
    "        stop=None,\n",
    "        temperature=0.5,\n",
    "    )\n",
    "\n",
    "    response = completion.choices[0].message.content\n",
    "    return response\n",
    "generate_topic(authors[4])"
   ]
  },
  {
   "cell_type": "code",
   "execution_count": 5,
   "metadata": {},
   "outputs": [],
   "source": [
    "\n",
    "\n",
    "def excerpts_generator(prompt,word_count, model= \"gpt-3.5-turbo\"):\n",
    "    #???? not sure, but if too many messages, maybe use acreate\n",
    "    \n",
    "    # Set up prompt\n",
    "    message = f\"please write a poem with topic {prompt}, use about {word_count} words\"\n",
    "    messages=[{\"role\": \"user\", \"content\": message}]\n",
    "\n",
    "    # Generate a response\n",
    "    completion = openai.ChatCompletion.create(\n",
    "        model=model,\n",
    "        messages=messages,\n",
    "        max_tokens=1024,\n",
    "        n=1,\n",
    "        stop=None,\n",
    "        temperature=0.5,\n",
    "    )\n",
    "\n",
    "    response = completion.choices[0].message.content\n",
    "    return response\n",
    "\n"
   ]
  },
  {
   "cell_type": "code",
   "execution_count": null,
   "metadata": {},
   "outputs": [],
   "source": [
    "\n",
    "\n",
    "def excerpts_generator(author_name,word_count, model= \"gpt-3.5-turbo\"):\n",
    "    #???? not sure, but if too many messages, maybe use acreate\n",
    "    \n",
    "    # Set up prompt\n",
    "    message = f\"Create a passage in the style of the novelist {author_name}, use about {word_count} words\"\n",
    "    messages=[{\"role\": \"user\", \"content\": message}]\n",
    "\n",
    "    # Generate a response\n",
    "    completion = openai.ChatCompletion.create(\n",
    "        model=model,\n",
    "        messages=messages,\n",
    "        max_tokens=1024,\n",
    "        n=1,\n",
    "        stop=None,\n",
    "        temperature=0.5,\n",
    "    )\n",
    "\n",
    "    response = completion.choices[0].message.content\n",
    "    return response\n",
    "\n",
    "name = \"nathaniel hawthorne\""
   ]
  },
  {
   "cell_type": "code",
   "execution_count": 6,
   "metadata": {},
   "outputs": [
    {
     "name": "stdout",
     "output_type": "stream",
     "text": [
      "Rain, oh rain, how you fall so free,\n",
      "Bringing life to all that you see.\n",
      "Your gentle drops, a soothing sound,\n",
      "As you wash the earth, and all around.\n",
      "\n",
      "With every drop, you cleanse the air,\n",
      "And wash away the world's despair.\n",
      "You fill the rivers, and the streams,\n",
      "And bring to life, the world of dreams.\n",
      "\n",
      "The pitter-patter of your feet,\n",
      "A symphony of nature's beat.\n",
      "And as you fall, you bring new life,\n",
      "A world renewed, without strife.\n",
      "\n",
      "So let it rain, and let it pour,\n",
      "For in your wake, we all adore.\n",
      "The beauty that you bring each day,\n",
      "A world refreshed, in every way.\n",
      "93\n"
     ]
    }
   ],
   "source": [
    "topic = \"rain\"\n",
    "word_count = 100\n",
    "poem = poem_generator(topic,word_count)\n",
    "# count words\n",
    "print(poem)\n",
    "print(len(poem.split(\" \")))"
   ]
  },
  {
   "cell_type": "code",
   "execution_count": null,
   "metadata": {},
   "outputs": [],
   "source": [
    "class GPT_writter():\n",
    "    def __init__(self,topic,word_count):\n",
    "        self.topic = topic\n",
    "        self.word_count = word_count\n",
    "        self.poem = poem_generator(topic,word_count)\n",
    "        self.poem_len = len(self.poem.split(\" \"))\n",
    "        \n",
    "    def data_fetch(self):\n",
    "        pass\n",
    "    \n",
    "    def poem_generator(prompt,word_count, model_engine= \"gpt-3.5-turbo\"):\n",
    "        # Set up the model and prompt\n",
    "        message = f\"please write a poem with topic {prompt}, use about {word_count} words\"\n",
    "        \n",
    "        messages=[{\"role\": \"user\", \"content\": message}]\n",
    "\n",
    "        # Generate a response\n",
    "        completion = openai.ChatCompletion.create(\n",
    "            model=model_engine,\n",
    "            messages=messages,\n",
    "            max_tokens=1024,\n",
    "            n=1,\n",
    "            stop=None,\n",
    "            temperature=0.5,\n",
    "        )\n",
    "\n",
    "        response = completion.choices[0].message.content\n",
    "        return response"
   ]
  },
  {
   "cell_type": "code",
   "execution_count": null,
   "metadata": {},
   "outputs": [],
   "source": []
  }
 ],
 "metadata": {
  "kernelspec": {
   "display_name": "chatgpt",
   "language": "python",
   "name": "python3"
  },
  "language_info": {
   "codemirror_mode": {
    "name": "ipython",
    "version": 3
   },
   "file_extension": ".py",
   "mimetype": "text/x-python",
   "name": "python",
   "nbconvert_exporter": "python",
   "pygments_lexer": "ipython3",
   "version": "3.10.6"
  },
  "orig_nbformat": 4
 },
 "nbformat": 4,
 "nbformat_minor": 2
}

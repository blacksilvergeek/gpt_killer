{
 "cells": [
  {
   "cell_type": "code",
   "execution_count": 1,
   "metadata": {},
   "outputs": [],
   "source": [
    "import json\n",
    "\n",
    "import matplotlib.style as style\n",
    "\n",
    "import collections\n",
    "\n",
    "with open('author_excerpt.json', 'r') as f:\n",
    "    auth_excerpt = json.load(f)\n",
    "\n",
    "    sorted_auth_excerpt = sorted(auth_excerpt.items())\n",
    "    sorted_auth_excerpt = collections.OrderedDict(sorted_auth_excerpt)"
   ]
  },
  {
   "cell_type": "code",
   "execution_count": 2,
   "metadata": {},
   "outputs": [
    {
     "data": {
      "text/plain": [
       "OrderedDict([('abbott', 337),\n",
       "             ('alcott', 284),\n",
       "             ('alger', 328),\n",
       "             ('allen', 467),\n",
       "             ('austen', 771),\n",
       "             ('bronte', 682),\n",
       "             ('cooper', 907),\n",
       "             ('dickens', 936),\n",
       "             ('doyle', 415),\n",
       "             ('garland', 626),\n",
       "             ('hawthorne', 405),\n",
       "             ('irving', 613),\n",
       "             ('james', 439),\n",
       "             ('jewett', 366),\n",
       "             ('melville', 1022),\n",
       "             ('page', 299),\n",
       "             ('poe', 423),\n",
       "             ('stevenson', 448),\n",
       "             ('thoreau', 212),\n",
       "             ('twain', 595),\n",
       "             ('wharton', 555)])"
      ]
     },
     "execution_count": 2,
     "metadata": {},
     "output_type": "execute_result"
    }
   ],
   "source": [
    "sorted_auth_excerpt"
   ]
  },
  {
   "cell_type": "code",
   "execution_count": 3,
   "metadata": {},
   "outputs": [
    {
     "data": {
      "text/plain": [
       "dict_items([('abbott', 337), ('stevenson', 448), ('alcott', 284), ('alger', 328), ('allen', 467), ('austen', 771), ('bronte', 682), ('cooper', 907), ('dickens', 936), ('garland', 626), ('hawthorne', 405), ('james', 439), ('melville', 1022), ('page', 299), ('thoreau', 212), ('twain', 595), ('doyle', 415), ('irving', 613), ('poe', 423), ('jewett', 366), ('wharton', 555)])"
      ]
     },
     "execution_count": 3,
     "metadata": {},
     "output_type": "execute_result"
    }
   ],
   "source": [
    "auth_excerpt.items()"
   ]
  },
  {
   "cell_type": "code",
   "execution_count": 4,
   "metadata": {},
   "outputs": [
    {
     "data": {
      "text/plain": [
       "{'abbott': 337,\n",
       " 'stevenson': 448,\n",
       " 'alcott': 284,\n",
       " 'alger': 328,\n",
       " 'allen': 467,\n",
       " 'austen': 771,\n",
       " 'bronte': 682,\n",
       " 'cooper': 907,\n",
       " 'dickens': 936,\n",
       " 'garland': 626,\n",
       " 'hawthorne': 405,\n",
       " 'james': 439,\n",
       " 'melville': 1022,\n",
       " 'page': 299,\n",
       " 'thoreau': 212,\n",
       " 'twain': 595,\n",
       " 'doyle': 415,\n",
       " 'irving': 613,\n",
       " 'poe': 423,\n",
       " 'jewett': 366,\n",
       " 'wharton': 555}"
      ]
     },
     "execution_count": 4,
     "metadata": {},
     "output_type": "execute_result"
    }
   ],
   "source": [
    "auth_excerpt"
   ]
  },
  {
   "cell_type": "code",
   "execution_count": 1,
   "metadata": {},
   "outputs": [],
   "source": [
    "import os\n",
    "import Utils.dataTools\n",
    "dataPath = os.path.join('authorData', 'authorshipData.mat')\n",
    "# import data\n",
    "\n",
    "name = 'poe'\n",
    "data = Utils.dataTools.Authorship(name, 1, 0, dataPath)\n",
    "\n"
   ]
  },
  {
   "cell_type": "code",
   "execution_count": 6,
   "metadata": {},
   "outputs": [
    {
     "name": "stdout",
     "output_type": "stream",
     "text": [
      "<Utils.dataTools.Authorship object at 0x0000019B8DA25450>\n"
     ]
    }
   ],
   "source": [
    "# print frame of data\n",
    "print(data)"
   ]
  },
  {
   "cell_type": "code",
   "execution_count": 7,
   "metadata": {},
   "outputs": [
    {
     "data": {
      "text/plain": [
       "array([[[ 49.,   0.,   0., ...,   0.,   0.,   0.],\n",
       "        [  0.,   0.,   0., ...,   0.,   0.,   0.],\n",
       "        [  0.,   0.,   0., ...,   0.,   0.,   0.],\n",
       "        ...,\n",
       "        [  0.,   0.,   0., ...,   0.,   0.,   0.],\n",
       "        [  0.,   0.,   0., ...,   0.,   0.,   0.],\n",
       "        [  0.,   0.,   0., ...,   0.,   0.,   0.]],\n",
       "\n",
       "       [[ 44.,   0.,   0., ...,   0.,   0.,   0.],\n",
       "        [  0.,   0.,   0., ...,   0.,   0.,   0.],\n",
       "        [  0.,   0.,   0., ...,   0.,   0.,   0.],\n",
       "        ...,\n",
       "        [  0.,   0.,   0., ...,   0.,   0.,   0.],\n",
       "        [ 17.,   0.,   0., ...,   0.,   0.,   0.],\n",
       "        [  0.,   0.,   0., ...,   0.,   0.,   0.]],\n",
       "\n",
       "       [[ 83.,   0.,   0., ...,   0.,   0.,   0.],\n",
       "        [  0.,   0.,   0., ...,   0.,   0.,   0.],\n",
       "        [  0.,   0.,   0., ...,   0.,   0.,   0.],\n",
       "        ...,\n",
       "        [  0.,   0.,   0., ...,   0.,   0.,   0.],\n",
       "        [  0.,   0.,   0., ..., 100.,   0.,   0.],\n",
       "        [  0.,   0.,   0., ...,   0.,   0.,   0.]],\n",
       "\n",
       "       ...,\n",
       "\n",
       "       [[ 59.,   0.,   0., ...,   0.,  75.,   0.],\n",
       "        [  0.,   0.,   0., ...,   0.,   0.,   0.],\n",
       "        [  0.,   0.,   0., ...,   0.,   0.,   0.],\n",
       "        ...,\n",
       "        [  0.,   0.,   0., ...,   0.,   0.,   0.],\n",
       "        [ 87.,   0.,   0., ...,  75.,   0.,   0.],\n",
       "        [  0.,   0.,   0., ...,   0.,   0.,   0.]],\n",
       "\n",
       "       [[185.,   0.,   0., ...,   0.,   0.,   0.],\n",
       "        [  0.,   0.,   0., ...,   0.,   0.,   0.],\n",
       "        [  0.,   0.,   0., ...,   0.,   0.,   0.],\n",
       "        ...,\n",
       "        [  0.,   0.,   0., ...,   0.,   0.,   0.],\n",
       "        [  0.,   0.,   0., ...,   0.,   0.,   0.],\n",
       "        [  0.,   0.,   0., ...,   0.,   0.,   0.]],\n",
       "\n",
       "       [[104.,   0.,   0., ...,   0.,   0.,   0.],\n",
       "        [  0.,   0.,   0., ...,   0.,   0.,   0.],\n",
       "        [  0.,   0.,   0., ...,   0.,   0.,   0.],\n",
       "        ...,\n",
       "        [100.,   0.,   0., ...,   0.,   0.,   0.],\n",
       "        [  0.,   0.,   0., ...,   0.,   0.,   0.],\n",
       "        [  0.,   0.,   0., ...,   0.,   0.,   0.]]])"
      ]
     },
     "execution_count": 7,
     "metadata": {},
     "output_type": "execute_result"
    }
   ],
   "source": [
    "data.authorData['abbott']['WAN']"
   ]
  },
  {
   "cell_type": "code",
   "execution_count": null,
   "metadata": {},
   "outputs": [],
   "source": []
  }
 ],
 "metadata": {
  "kernelspec": {
   "display_name": "chatgpt",
   "language": "python",
   "name": "python3"
  },
  "language_info": {
   "codemirror_mode": {
    "name": "ipython",
    "version": 3
   },
   "file_extension": ".py",
   "mimetype": "text/x-python",
   "name": "python",
   "nbconvert_exporter": "python",
   "pygments_lexer": "ipython3",
   "version": "3.10.6"
  },
  "orig_nbformat": 4
 },
 "nbformat": 4,
 "nbformat_minor": 2
}
